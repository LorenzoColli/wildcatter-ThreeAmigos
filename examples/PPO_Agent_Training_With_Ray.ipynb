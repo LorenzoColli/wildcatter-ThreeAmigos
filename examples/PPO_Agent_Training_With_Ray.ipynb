{
 "cells": [
  {
   "cell_type": "markdown",
   "id": "f7109b16",
   "metadata": {
    "pycharm": {
     "name": "#%% md\n"
    },
    "tags": []
   },
   "source": [
    "## PPO Agent Training with Action Masking\n",
    "\n",
    "Here we will import the Proximal Policy Optimization (PPO) algorithm from Ray.RLlib and train it with minimal parameters.\n",
    "\n",
    "Action masking allows the policy to start learning the best strategy from the get-go, without having to first learn the rules of the game.\n",
    "Enforcing action masking in Ray requires the definition of a custom model, which post-processes the logits coming out of the actual model (here, a Fully Connceted Neural Network) setting to -inf those of forbidden actions"
   ]
  },
  {
   "cell_type": "code",
   "execution_count": 1,
   "id": "54a9d588-7775-466c-9c07-ab404ea9b123",
   "metadata": {},
   "outputs": [],
   "source": [
    "from wildcatter.advanced_environment_for_RLib import AdvancedDriller\n",
    "import ray\n",
    "from ray import air, tune\n",
    "from ray.rllib.models.tf.tf_modelv2 import TFModelV2\n",
    "from ray.rllib.models.tf.fcnet import FullyConnectedNetwork\n",
    "from ray.rllib.utils.framework import try_import_tf\n",
    "from ray.rllib.models import ModelCatalog\n",
    "from gym.spaces import Box, Dict\n",
    "import numpy as np\n",
    "import matplotlib.pyplot as plt\n",
    "from time import time\n",
    "\n",
    "tf1, tf, tfv = try_import_tf(error=True)\n",
    "\n",
    "class WildcatterActionMaskedModel(TFModelV2):\n",
    "     \n",
    "    def __init__(self, \n",
    "                 obs_space,\n",
    "                 action_space,\n",
    "                 num_outputs,\n",
    "                 model_config,\n",
    "                 name,\n",
    "                 true_obs_shape=(11,40),\n",
    "                 action_embed_size=4+38+1,\n",
    "                 *args, **kwargs):\n",
    "         \n",
    "        super(WildcatterActionMaskedModel, self).__init__(obs_space,\n",
    "            action_space, num_outputs, model_config, name, \n",
    "            *args, **kwargs)\n",
    "         \n",
    "        self.action_embed_model = FullyConnectedNetwork(\n",
    "            Box(-np.inf, np.inf, shape=true_obs_shape), \n",
    "                action_space, action_embed_size,\n",
    "            model_config, name + \"_action_embed\")\n",
    " \n",
    "    def forward(self, input_dict, state, seq_lens):\n",
    "        # Extract the available actions tensor from the observation.\n",
    "        action_mask = input_dict[\"obs\"][\"action_mask\"]\n",
    "        # Compute the predicted action embedding\n",
    "        action_embed, _ = self.action_embed_model({\n",
    "            \"obs\": input_dict[\"obs\"][\"obs\"]})\n",
    "        # Mask out invalid actions (use tf.float32.min for stability)\n",
    "        inf_mask = tf.maximum(tf.math.log(action_mask), tf.float32.min)\n",
    "        # Return action_logits + inf_mask, state\n",
    "        return action_embed + inf_mask, state\n",
    " \n",
    "    def value_function(self):\n",
    "        return self.action_embed_model.value_function()\n",
    "    \n",
    "ModelCatalog.register_custom_model('wildcatter_masked', WildcatterActionMaskedModel)"
   ]
  },
  {
   "cell_type": "markdown",
   "id": "9c77993a-b16f-4d8d-b3f9-419354821968",
   "metadata": {},
   "source": [
    "## Setting environment config dictionary\n",
    "\n",
    "Here we list the config dictionaries for various environment types, selecting the one we want to train for."
   ]
  },
  {
   "cell_type": "code",
   "execution_count": 2,
   "id": "d5ca1722-3830-4bc3-a452-e411172276f5",
   "metadata": {},
   "outputs": [
    {
     "name": "stdout",
     "output_type": "stream",
     "text": [
      "(441,) 43\n"
     ]
    }
   ],
   "source": [
    "env_random_config = dict(model_type = \"random\",\n",
    "                  nrow=11,\n",
    "                  ncol=40,\n",
    "                  funds=20,\n",
    "                  oil_price = 40,\n",
    "                  relocation_cost = 0.2,\n",
    "                  drilling_cost = 0.5,\n",
    "                  drilling_depth_markup = 0.1,\n",
    "                  #seed = 0,\n",
    "                 )\n",
    "\n",
    "env_random_pockets_config = dict(model_type = \"random_pockets\",\n",
    "                  nrow=11,\n",
    "                  ncol=40,\n",
    "                  #nrow=40,\n",
    "                  #ncol=80,\n",
    "                  funds=20,\n",
    "                  oil_price = 1,\n",
    "                  relocation_cost = 0.2,\n",
    "                  drilling_cost = 0.5,\n",
    "                  drilling_depth_markup = 0.1,\n",
    "                  #seed = 0,\n",
    "                 )\n",
    "\n",
    "env_2d_from_csv_config = dict(model_type = \"from_csv\",\n",
    "                  #model_path=r\"/home/studio-lab-user/sagemaker-studiolab-notebooks/wildcatter-ThreeAmigos/examples/data/2d_two_rectangular_targets.csv\",\n",
    "                  #model_path=r\"/home/studio-lab-user/sagemaker-studiolab-notebooks/wildcatter-ThreeAmigos/examples/data/2d_stacked.csv\",\n",
    "                  model_path=r\"/home/studio-lab-user/sagemaker-studiolab-notebooks/wildcatter-ThreeAmigos/examples/data/x-sec_targets.csv\",\n",
    "                  delim=\",\",\n",
    "                  funds=20,\n",
    "                  oil_price = 40,\n",
    "                  relocation_cost = 0.2,\n",
    "                  drilling_cost = 0.5,\n",
    "                  drilling_depth_markup = 0.1,\n",
    "                  #seed = 0,\n",
    "                  )\n",
    "\n",
    "env_config = env_random_pockets_config\n",
    "env = AdvancedDriller(env_config)\n",
    "# Setting variables for PPO trainer\n",
    "true_obs_shape = env.observation_space[\"obs\"].shape\n",
    "action_embed_size = env.action_space.n"
   ]
  },
  {
   "cell_type": "markdown",
   "id": "2a55a4c3-52f9-4e12-9925-b6e7bf7a8a72",
   "metadata": {},
   "source": [
    "## Loading the PPO trainer\n",
    "\n",
    "Let's instantiate a PPO trainer with three workers (to exploit the 4 CPUs available on SageMaker Studio Lab)"
   ]
  },
  {
   "cell_type": "code",
   "execution_count": 3,
   "id": "8bbfe87c-5b83-4574-a988-6694292e04b6",
   "metadata": {},
   "outputs": [
    {
     "name": "stderr",
     "output_type": "stream",
     "text": [
      "2022-08-31 18:32:37,456\tWARNING services.py:1882 -- WARNING: The object store is using /tmp instead of /dev/shm because /dev/shm has only 4294967296 bytes available. This will harm performance! You may be able to free up space by deleting files in /dev/shm. If you are inside a Docker container, you can increase /dev/shm size by passing '--shm-size=4.67gb' to 'docker run' (or add it to the run_options list in a Ray cluster config). Make sure to set this to more than 30% of available RAM.\n",
      "2022-08-31 18:32:37,507\tINFO worker.py:1509 -- Started a local Ray instance. View the dashboard at \u001b[1m\u001b[32m127.0.0.1:8265 \u001b[39m\u001b[22m\n",
      "2022-08-31 18:32:39,115\tINFO algorithm.py:1871 -- Your framework setting is 'tf', meaning you are using static-graph mode. Set framework='tf2' to enable eager execution with tf2.x. You may also then want to set eager_tracing=True in order to reach similar execution speed as with static-graph mode.\n",
      "2022-08-31 18:32:39,116\tWARNING ppo.py:350 -- `train_batch_size` (4000) cannot be achieved with your other settings (num_workers=3 num_envs_per_worker=1 rollout_fragment_length=200)! Auto-adjusting `rollout_fragment_length` to 1334.\n",
      "2022-08-31 18:32:39,120\tINFO ppo.py:378 -- In multi-agent mode, policies will be optimized sequentially by the multi-GPU optimizer. Consider setting simple_optimizer=True if this doesn't work for you.\n",
      "2022-08-31 18:32:39,124\tINFO algorithm.py:351 -- Current log_level is WARN. For more information, set 'log_level': 'INFO' / 'DEBUG' or use the -v and -vv flags.\n",
      "\u001b[2m\u001b[36m(RolloutWorker pid=4037)\u001b[0m 2022-08-31 18:32:45,382\tWARNING env.py:142 -- Your env doesn't have a .spec.max_episode_steps attribute. This is fine if you have set 'horizon' in your config dictionary, or `soft_horizon`. However, if you haven't, 'horizon' will default to infinity, and your environment will not be reset.\n",
      "2022-08-31 18:32:48,212\tWARNING util.py:65 -- Install gputil for GPU system monitoring.\n"
     ]
    }
   ],
   "source": [
    "import ray.rllib.algorithms.ppo as ppo\n",
    "from ray.tune.logger import pretty_print\n",
    "ray.init(ignore_reinit_error=True)\n",
    "config = ppo.DEFAULT_CONFIG.copy()\n",
    "special_config = {\"num_gpus\" : 0,\n",
    "                  \"num_workers\" : 3, # Parallel training!\n",
    "                  \"env\": AdvancedDriller,\n",
    "                  \"env_config\": env_config,\n",
    "                  \"model\": {\n",
    "                      \"custom_model\": \"wildcatter_masked\",\n",
    "                      \"custom_model_config\": {\n",
    "                          \"true_obs_shape\":true_obs_shape,\n",
    "                          \"action_embed_size\":action_embed_size,\n",
    "                      }\n",
    "                  },\n",
    "                  \"horizon\" : 40\n",
    "                 }\n",
    "config.update(special_config)\n",
    "trainer = ppo.PPO(config=config)\n",
    "# In case we want to restore a checkpointed trainer\n",
    "#trainer.restore(my_checkpoint)"
   ]
  },
  {
   "cell_type": "code",
   "execution_count": 5,
   "id": "4e767d04-c186-4c19-bb26-437bb6a4d95e",
   "metadata": {
    "tags": []
   },
   "outputs": [
    {
     "data": {
      "text/plain": [
       "True"
      ]
     },
     "execution_count": 5,
     "metadata": {},
     "output_type": "execute_result"
    }
   ],
   "source": [
    "# Check that action masking works\n",
    "env = trainer.env_creator(env_config)\n",
    "obs = env.reset()\n",
    "obs['action_mask'][:-1] = 0 # Having set to zero the action mask of all other actions, the only remaining valid action is number 42\n",
    "# Let's ask the model to select an action for 10k times\n",
    "actions = np.array([trainer.compute_single_action(obs) for i in range(10000)])\n",
    "# Check that the action being selected has always been 42\n",
    "all(actions==42)"
   ]
  },
  {
   "cell_type": "code",
   "execution_count": 20,
   "id": "6cfb51ca-ffa2-4505-b348-92a1a6b53e5f",
   "metadata": {
    "tags": []
   },
   "outputs": [
    {
     "name": "stdout",
     "output_type": "stream",
     "text": [
      "Epoch: 0; episode_reward_mean: 49.12570850202429\n",
      "Epoch: 10; episode_reward_mean: 49.54065217391304\n",
      "Epoch: 20; episode_reward_mean: 46.9630831643002\n",
      "Epoch: 30; episode_reward_mean: 49.66932038834951\n",
      "Epoch: 40; episode_reward_mean: 49.289245283018865\n",
      "Epoch: 50; episode_reward_mean: 52.409284332688586\n",
      "Epoch: 60; episode_reward_mean: 50.80623781676413\n",
      "Epoch: 70; episode_reward_mean: 49.865825242718444\n",
      "Epoch: 80; episode_reward_mean: 48.281183932346714\n",
      "Epoch: 90; episode_reward_mean: 47.37794432548179\n",
      "agent_timesteps_total: 1600800\n",
      "counters:\n",
      "  num_agent_steps_sampled: 1600800\n",
      "  num_agent_steps_trained: 1600800\n",
      "  num_env_steps_sampled: 1600800\n",
      "  num_env_steps_trained: 1600800\n",
      "custom_metrics: {}\n",
      "date: 2022-08-31_19-35-10\n",
      "done: false\n",
      "episode_len_mean: 8.17827868852459\n",
      "episode_media: {}\n",
      "episode_reward_max: 75.4\n",
      "episode_reward_mean: 48.88995901639343\n",
      "episode_reward_min: -121.4\n",
      "episodes_this_iter: 488\n",
      "episodes_total: 244532\n",
      "experiment_id: 05b4a3b99d49462186f3ab5dac6f0f86\n",
      "hostname: default\n",
      "info:\n",
      "  learner:\n",
      "    default_policy:\n",
      "      custom_metrics: {}\n",
      "      learner_stats:\n",
      "        cur_kl_coeff: 1.0125000476837158\n",
      "        cur_lr: 4.999999873689376e-05\n",
      "        entropy: 0.6649982333183289\n",
      "        entropy_coeff: 0.0\n",
      "        kl: 0.009382807649672031\n",
      "        model: {}\n",
      "        policy_loss: -0.040653154253959656\n",
      "        total_loss: 7.826009750366211\n",
      "        vf_explained_var: -0.4899747371673584\n",
      "        vf_loss: 7.857163429260254\n",
      "      num_agent_steps_trained: 128.0\n",
      "  num_agent_steps_sampled: 1600800\n",
      "  num_agent_steps_trained: 1600800\n",
      "  num_env_steps_sampled: 1600800\n",
      "  num_env_steps_trained: 1600800\n",
      "iterations_since_restore: 400\n",
      "node_ip: 169.254.255.2\n",
      "num_agent_steps_sampled: 1600800\n",
      "num_agent_steps_trained: 1600800\n",
      "num_env_steps_sampled: 1600800\n",
      "num_env_steps_sampled_this_iter: 4002\n",
      "num_env_steps_trained: 1600800\n",
      "num_env_steps_trained_this_iter: 4002\n",
      "num_faulty_episodes: 0\n",
      "num_healthy_workers: 3\n",
      "num_recreated_workers: 0\n",
      "num_steps_trained_this_iter: 4002\n",
      "perf:\n",
      "  cpu_util_percent: 76.22999999999999\n",
      "  ram_util_percent: 20.09\n",
      "pid: 3720\n",
      "policy_reward_max: {}\n",
      "policy_reward_mean: {}\n",
      "policy_reward_min: {}\n",
      "sampler_perf:\n",
      "  mean_action_processing_ms: 0.09847422043260413\n",
      "  mean_env_render_ms: 0.0\n",
      "  mean_env_wait_ms: 0.18986335649344938\n",
      "  mean_inference_ms: 1.0760796034650317\n",
      "  mean_raw_obs_processing_ms: 0.6489156935741982\n",
      "sampler_results:\n",
      "  custom_metrics: {}\n",
      "  episode_len_mean: 8.17827868852459\n",
      "  episode_media: {}\n",
      "  episode_reward_max: 75.4\n",
      "  episode_reward_mean: 48.88995901639343\n",
      "  episode_reward_min: -121.4\n",
      "  episodes_this_iter: 488\n",
      "  hist_stats:\n",
      "    episode_lengths: [7, 7, 9, 9, 6, 15, 5, 5, 5, 8, 6, 7, 7, 6, 18, 10, 3, 9, 9,\n",
      "      6, 6, 5, 5, 12, 14, 8, 8, 9, 6, 10, 6, 6, 10, 7, 9, 11, 7, 5, 5, 10, 5, 6, 9,\n",
      "      25, 8, 11, 8, 7, 6, 5, 5, 7, 5, 5, 5, 5, 6, 12, 5, 6, 9, 8, 8, 6, 7, 5, 7, 5,\n",
      "      8, 7, 6, 6, 7, 5, 7, 9, 20, 7, 8, 5, 8, 5, 7, 5, 9, 16, 8, 10, 7, 31, 9, 5,\n",
      "      9, 6, 5, 7, 6, 11, 7, 7, 7, 6, 11, 6, 6, 6, 7, 16, 5, 13, 1, 7, 6, 12, 5, 5,\n",
      "      5, 10, 6, 6, 28, 6, 5, 6, 10, 6, 5, 11, 8, 6, 7, 5, 5, 5, 5, 5, 7, 5, 5, 14,\n",
      "      7, 5, 6, 7, 12, 11, 7, 8, 7, 9, 9, 7, 7, 7, 5, 14, 7, 10, 5, 6, 7, 5, 7, 5,\n",
      "      5, 11, 5, 7, 10, 12, 9, 8, 8, 17, 9, 33, 7, 9, 7, 5, 8, 7, 14, 13, 7, 5, 6,\n",
      "      1, 5, 26, 7, 5, 6, 8, 8, 5, 7, 6, 5, 5, 7, 5, 5, 11, 6, 15, 7, 7, 6, 5, 7, 3,\n",
      "      6, 6, 9, 6, 14, 5, 7, 1, 5, 8, 5, 14, 11, 7, 5, 8, 9, 7, 7, 7, 5, 5, 6, 7, 13,\n",
      "      5, 6, 27, 6, 6, 7, 5, 10, 3, 9, 5, 7, 6, 6, 7, 7, 15, 7, 9, 6, 8, 8, 7, 8, 8,\n",
      "      5, 7, 14, 7, 7, 11, 11, 8, 13, 7, 6, 5, 7, 7, 12, 7, 12, 9, 6, 5, 5, 7, 5, 9,\n",
      "      12, 11, 6, 22, 7, 7, 5, 16, 9, 12, 7, 9, 7, 25, 7, 6, 7, 6, 7, 7, 1, 5, 7, 5,\n",
      "      13, 17, 5, 15, 6, 8, 8, 7, 20, 13, 5, 10, 6, 7, 7, 7, 6, 12, 7, 6, 7, 9, 10,\n",
      "      10, 9, 7, 5, 5, 10, 9, 6, 5, 9, 7, 6, 6, 5, 9, 6, 18, 16, 23, 5, 5, 5, 6, 5,\n",
      "      6, 7, 5, 7, 9, 5, 7, 7, 6, 7, 6, 6, 5, 5, 5, 6, 7, 7, 19, 12, 5, 6, 16, 13,\n",
      "      5, 6, 6, 7, 8, 29, 1, 5, 6, 7, 25, 6, 7, 5, 9, 5, 6, 16, 9, 7, 17, 8, 5, 9,\n",
      "      5, 6, 16, 14, 6, 18, 6, 9, 5, 7, 5, 5, 7, 9, 13, 11, 7, 10, 10, 9, 24, 7, 10,\n",
      "      5, 5, 6, 12, 5, 7, 5, 7, 6, 7, 12, 6, 5, 6, 8, 20, 1, 5, 25, 7, 7, 5, 13, 7,\n",
      "      6, 12, 14, 6, 10, 6, 7, 6, 12, 10, 22, 7, 6, 5, 22, 6, 6, 6, 7, 16, 28, 7, 5,\n",
      "      5, 12, 7, 5, 8, 7, 5, 5, 5, 11, 1, 5, 5]\n",
      "    episode_reward: [70.6, 58.0, 61.2, 31.6, 39.8, 37.2, 73.4, 73.4, 65.4, 57.0, 71.8,\n",
      "      70.0, 58.0, 71.8, 29.599999999999998, 47.400000000000006, 20.0, 51.2, 13.599999999999998,\n",
      "      47.8, 61.8, 65.4, 73.4, 0.3999999999999986, 4.999999999999999, 56.0, 34.199999999999996,\n",
      "      57.2, 63.8, 27.400000000000002, 71.8, 73.8, 54.0, 59.400000000000006, 55.2,\n",
      "      59.599999999999994, 70.0, 59.400000000000006, 39.4, 42.599999999999994, 69.4,\n",
      "      65.8, 54.0, 31.0, 70.19999999999999, 63.2, 51.0, 70.0, 71.8, 67.4, 51.400000000000006,\n",
      "      73.0, 73.4, 73.4, 61.400000000000006, 17.4, 71.8, 3.6000000000000014, 73.4,\n",
      "      23.799999999999997, 61.599999999999994, 53.0, 14.599999999999998, 43.8, 73.0,\n",
      "      17.4, 74.19999999999999, 12.399999999999999, 47.0, 70.0, 61.8, 63.8, 70.0, 17.4,\n",
      "      58.0, 60.19999999999999, 35.400000000000006, 70.0, 25.4, 73.4, 45.400000000000006,\n",
      "      51.400000000000006, 56.19999999999999, 67.4, 62.0, 35.599999999999994, 46.599999999999994,\n",
      "      61.0, 71.8, -101.6, 49.2, 65.4, 41.0, 71.8, 73.4, 60.0, 71.8, 66.0, 48.0, 11.599999999999998,\n",
      "      70.0, 71.8, 71.39999999999999, 71.8, 71.8, 55.8, 51.0, 55.199999999999996, 41.4,\n",
      "      55.8, 20.0, 70.0, 57.8, 34.199999999999996, 73.4, 23.4, 43.4, 68.6, 65.8, 53.8,\n",
      "      4.199999999999997, 63.8, 73.4, 71.8, 15.199999999999998, 47.8, 51.400000000000006,\n",
      "      65.8, 65.4, 71.8, 60.0, 51.400000000000006, 73.4, 73.4, 73.4, 39.4, 70.0, 47.400000000000006,\n",
      "      73.4, 34.60000000000001, 70.0, 55.400000000000006, 37.8, 70.0, 60.599999999999994,\n",
      "      64.8, 38.0, 24.599999999999998, 70.0, 56.8, 59.2, 36.0, 56.0, 39.4, 73.4, 2.1999999999999993,\n",
      "      44.0, 42.199999999999996, 55.400000000000006, 59.8, 40.199999999999996, 47.400000000000006,\n",
      "      66.0, 43.4, 63.400000000000006, 62.599999999999994, 73.4, 70.0, 68.6, 10.799999999999999,\n",
      "      67.2, 56.0, 29.799999999999997, 22.200000000000003, 50.0, -121.4, 70.0, 62.8,\n",
      "      58.0, 73.4, 47.8, 70.0, 31.799999999999997, 29.4, 38.199999999999996, 67.4,\n",
      "      67.8, 20.0, 73.4, -98.2, 7.199999999999999, 75.4, 71.8, 71.0, 9.8, 51.400000000000006,\n",
      "      66.0, 73.8, 59.400000000000006, 73.4, 19.200000000000003, 59.400000000000006,\n",
      "      63.400000000000006, 63.599999999999994, 61.8, 6.000000000000002, 43.4, 61.0,\n",
      "      59.8, 49.400000000000006, 70.0, 20.0, 51.8, 37.8, 52.599999999999994, 71.8,\n",
      "      27.0, 39.4, 70.0, 20.0, 33.4, 37.8, 59.400000000000006, 61.6, 65.8, 70.0, 73.4,\n",
      "      62.599999999999994, 48.599999999999994, 70.0, 48.0, 70.0, 55.400000000000006,\n",
      "      73.4, 57.8, 60.19999999999999, 47.599999999999994, 51.400000000000006, 71.8,\n",
      "      29.800000000000008, 65.8, 51.8, 48.0, 73.4, 39.0, 20.0, 40.6, 73.4, 50.0, 35.8,\n",
      "      73.8, 66.2, 48.0, 33.400000000000006, 68.19999999999999, 59.39999999999999,\n",
      "      71.8, 65.8, 41.4, 46.0, 65.8, 61.400000000000006, 73.4, 66.0, 26.400000000000002,\n",
      "      49.0, 46.0, 57.0, 61.599999999999994, 56.0, 59.2, 46.599999999999994, 43.8,\n",
      "      69.4, 64.0, 35.0, 53.2, 56.0, 8.599999999999998, 44.8, 63.8, 73.4, 61.400000000000006,\n",
      "      70.0, 73.4, 59.2, 57.0, 38.8, 71.8, 6.4, 14.0, 70.0, 73.4, 11.399999999999995,\n",
      "      60.400000000000006, 51.4, 47.0, 56.400000000000006, 46.0, -108.2, 47.0, 71.8,\n",
      "      70.0, 71.8, 20.0, 46.0, 20.0, 73.4, 58.0, 73.4, 3.3999999999999986, -14.40000000000001,\n",
      "      65.4, 40.2, 71.8, 49.400000000000006, 31.4, 62.599999999999994, 42.8, 52.199999999999996,\n",
      "      73.4, 33.2, 35.8, 50.0, 33.0, 70.0, 55.8, 50.0, 70.0, 71.8, 71.0, 29.599999999999998,\n",
      "      28.6, 12.399999999999991, 4.000000000000002, 70.0, 67.4, 69.4, 14.599999999999998,\n",
      "      29.4, 73.8, 75.4, 39.2, 32.0, 35.8, 71.8, 47.400000000000006, 65.2, 65.8, -93.0,\n",
      "      59.2, -16.000000000000004, 65.4, 75.4, 65.4, 71.8, 73.4, 45.8, 56.0, 51.400000000000006,\n",
      "      60.0, 66.0, 37.4, 70.0, 70.0, 57.8, 58.0, 67.8, 59.8, 49.400000000000006, 73.4,\n",
      "      73.4, 39.8, 70.0, 70.0, -3.8000000000000007, 49.0, 73.4, 67.8, 37.6, 50.400000000000006,\n",
      "      73.4, 55.8, 49.8, 66.0, 56.0, -109.0, 20.0, 73.4, 37.8, 69.0, -120.2, 71.8,\n",
      "      60.0, 75.4, 66.2, 67.4, 63.8, -1.199999999999994, 47.8, 51.0, 23.200000000000003,\n",
      "      12.0, 55.400000000000006, 72.4, 73.4, 29.799999999999997, 46.0, 52.2, 15.799999999999999,\n",
      "      37.60000000000001, 59.8, 56.8, 69.4, 52.0, 61.400000000000006, 69.4, 62.0, 27.6,\n",
      "      28.8, 6.400000000000002, 70.0, 23.599999999999998, 43.0, 40.8, 14.999999999999998,\n",
      "      17.0, 55.599999999999994, 45.400000000000006, 73.4, 71.8, 33.0, 73.4, 48.0,\n",
      "      45.400000000000006, 60.0, 29.799999999999997, 67.8, 55.19999999999999, 65.8,\n",
      "      47.400000000000006, 47.8, 37.4, 38.599999999999994, 20.0, 47.400000000000006,\n",
      "      -109.6, 18.0, 70.0, 73.4, 33.4, 60.0, 71.8, 10.2, 18.799999999999997, 65.8,\n",
      "      14.799999999999995, 39.8, 14.0, 53.8, 8.399999999999999, 26.200000000000003,\n",
      "      14.199999999999996, 68.6, 53.8, 73.4, 5.329070518200751e-15, 71.8, 71.8, 69.8,\n",
      "      70.0, -107.3, 34.2, 9.199999999999998, 73.4, 37.4, 12.200000000000001, 14.0,\n",
      "      73.4, 59.8, 11.600000000000001, 55.400000000000006, 41.4, 73.4, 66.6, 20.0,\n",
      "      67.4, 73.4]\n",
      "  num_faulty_episodes: 0\n",
      "  policy_reward_max: {}\n",
      "  policy_reward_mean: {}\n",
      "  policy_reward_min: {}\n",
      "  sampler_perf:\n",
      "    mean_action_processing_ms: 0.09847422043260413\n",
      "    mean_env_render_ms: 0.0\n",
      "    mean_env_wait_ms: 0.18986335649344938\n",
      "    mean_inference_ms: 1.0760796034650317\n",
      "    mean_raw_obs_processing_ms: 0.6489156935741982\n",
      "time_since_restore: 3076.9870426654816\n",
      "time_this_iter_s: 7.500852346420288\n",
      "time_total_s: 3076.9870426654816\n",
      "timers:\n",
      "  learn_throughput: 822.521\n",
      "  learn_time_ms: 4865.526\n",
      "  load_throughput: 14416906.818\n",
      "  load_time_ms: 0.278\n",
      "  synch_weights_time_ms: 3.885\n",
      "  training_iteration_time_ms: 7503.252\n",
      "timestamp: 1661974510\n",
      "timesteps_since_restore: 0\n",
      "timesteps_total: 1600800\n",
      "training_iteration: 400\n",
      "trial_id: default\n",
      "warmup_time: 21.306475162506104\n",
      "\n"
     ]
    }
   ],
   "source": [
    "# Let's do 1000 training epochs\n",
    "for i in range(100):\n",
    "    result = trainer.train()\n",
    "    if i%10 == 0:\n",
    "    #    checkpoint = trainer.save(\"my_checkpoint\")\n",
    "        print(f\"Epoch: {i}; episode_reward_mean: {result.get('episode_reward_mean')}\")\n",
    "\n",
    "#checkpoint = trainer.save(\"my_checkpoint\")\n",
    "#print(\"Final checkpoint saved\")\n",
    "print(pretty_print(result))"
   ]
  },
  {
   "cell_type": "code",
   "execution_count": 21,
   "id": "4d25b1e3-0754-451c-8424-757eb1321422",
   "metadata": {},
   "outputs": [],
   "source": [
    "checkpoint = trainer.save(\"my_checkpoint\")"
   ]
  },
  {
   "cell_type": "code",
   "execution_count": 22,
   "id": "9aecdbe5-92c3-4a32-a4e6-f0586e90713f",
   "metadata": {},
   "outputs": [
    {
     "name": "stderr",
     "output_type": "stream",
     "text": [
      "2022-08-31 19:35:44,537\tWARNING util.py:65 -- Install gputil for GPU system monitoring.\n"
     ]
    }
   ],
   "source": [
    "# Check policy\n",
    "import ray.rllib.algorithms.ppo as ppo\n",
    "from ray.tune.logger import pretty_print\n",
    "eval_config = ppo.DEFAULT_CONFIG.copy()\n",
    "special_config = {\"num_workers\" : 0,\n",
    "                  \"env\": AdvancedDriller,\n",
    "                  \"env_config\": env_config,\n",
    "                  \"model\": {\n",
    "                      \"custom_model\": \"wildcatter_masked\",\n",
    "                      \"custom_model_config\": {\n",
    "                          \"true_obs_shape\":true_obs_shape,\n",
    "                          \"action_embed_size\":action_embed_size,\n",
    "                      },\n",
    "                  },\n",
    "                  \"horizon\" : 40,\n",
    "                  \"explore\" : False, # Always returns best action\n",
    "                 }\n",
    "eval_config.update(special_config)\n",
    "agent = ppo.PPO(config=eval_config, env=AdvancedDriller)"
   ]
  },
  {
   "cell_type": "code",
   "execution_count": 24,
   "id": "c0c826e7-4af4-42b5-8bed-ea3bcafb0c50",
   "metadata": {},
   "outputs": [
    {
     "name": "stderr",
     "output_type": "stream",
     "text": [
      "2022-08-31 19:36:00,239\tINFO trainable.py:668 -- Restored on 169.254.255.2 from checkpoint: /home/studio-lab-user/sagemaker-studiolab-notebooks/wildcatter-ThreeAmigos/examples/my_checkpoint/checkpoint_000400\n",
      "2022-08-31 19:36:00,241\tINFO trainable.py:677 -- Current state after restoring: {'_iteration': 400, '_timesteps_total': None, '_time_total': 3076.9870426654816, '_episodes_total': 244532}\n"
     ]
    }
   ],
   "source": [
    "# Here we restore an agent we trained for 100 epochs with the standard parameters\n",
    "agent.restore(r\"/home/studio-lab-user/sagemaker-studiolab-notebooks/wildcatter-ThreeAmigos/examples/my_checkpoint/checkpoint_000400/\")"
   ]
  },
  {
   "cell_type": "code",
   "execution_count": 51,
   "id": "df5ad42d-f7ce-4ce0-a85f-685e6a751f55",
   "metadata": {
    "tags": []
   },
   "outputs": [
    {
     "name": "stdout",
     "output_type": "stream",
     "text": [
      "Beginning Drill Campaign\n",
      "Action: 33; funds: 20.0; reward: -0.0; total score: 0.0\n",
      "Action: 0; funds: 19.4; reward: -0.6; total score: -0.6\n",
      "Action: 0; funds: 18.7; reward: -0.7; total score: -1.2999999999999998\n",
      "Action: 0; funds: 17.9; reward: -0.8; total score: -2.0999999999999996\n",
      "Action: 0; funds: 17.0; reward: -0.9; total score: -2.9999999999999996\n",
      "Action: 42; funds: 17.0; reward: 23; total score: 20.0\n",
      "Action: 42; funds: 17.0; reward: 40.0; total score: 60.0\n"
     ]
    },
    {
     "data": {
      "image/png": "[encoded data removed]",
      "text/plain": [
       "<Figure size 1440x1440 with 1 Axes>"
      ]
     },
     "metadata": {
      "needs_background": "light"
     },
     "output_type": "display_data"
    },
    {
     "data": {
      "image/png": "[encoded data removed]",
      "text/plain": [
       "<Figure size 1440x1440 with 1 Axes>"
      ]
     },
     "metadata": {
      "needs_background": "light"
     },
     "output_type": "display_data"
    }
   ],
   "source": [
    "env_config = env_random_pockets_config\n",
    "#env_config = env_2d_two_rectangular_targets_config\n",
    "env = AdvancedDriller(env_config)\n",
    "print(\"Beginning Drill Campaign\")\n",
    "obs = env.reset()\n",
    "done = False\n",
    "score = 0\n",
    "plt.figure(figsize=(20, 20))\n",
    "plt.imshow(env.state, vmin=-10, vmax=2)\n",
    "plt.xticks(np.arange(0, env.ncol, 1.0))\n",
    "plt.yticks(np.arange(0, env.nrow, 1.0))\n",
    "plt.xlim([-0.5, env.ncol - 0.5])\n",
    "plt.ylim([env.nrow - 0.5, -0.5])\n",
    "plt.grid()\n",
    "\n",
    "while not done:\n",
    "    action = agent.compute_single_action(obs)\n",
    "    obs, reward, done, info = env.step(action)\n",
    "    score += reward\n",
    "    print(f\"Action: {action}; funds: {obs['obs'][-1]}; reward: {reward}; total score: {score}\")\n",
    "\n",
    "plt.figure(figsize=(20, 20))\n",
    "plt.imshow(env.state, vmin=-10, vmax=2)\n",
    "for well in env.trajectory:\n",
    "    traj_z, traj_x = np.asarray(well).T\n",
    "    plt.plot(traj_x, traj_z, \"-\", c=\"m\", linewidth=6)\n",
    "plt.xticks(np.arange(0, env.ncol, 1.0))\n",
    "plt.yticks(np.arange(0, env.nrow, 1.0))\n",
    "plt.xlim([-0.5, env.ncol - 0.5])\n",
    "plt.ylim([env.nrow - 0.5, -0.5])\n",
    "plt.grid()"
   ]
  },
  {
   "cell_type": "code",
   "execution_count": null,
   "id": "1fbc5486-fd2e-4e09-b912-2b9ab864f292",
   "metadata": {},
   "outputs": [],
   "source": []
  }
 ],
 "metadata": {
  "kernelspec": {
   "display_name": "wildcatter-ThreeAmigos:Python",
   "language": "python",
   "name": "conda-env-wildcatter-ThreeAmigos-py"
  },
  "language_info": {
   "codemirror_mode": {
    "name": "ipython",
    "version": 3
   },
   "file_extension": ".py",
   "mimetype": "text/x-python",
   "name": "python",
   "nbconvert_exporter": "python",
   "pygments_lexer": "ipython3",
   "version": "3.9.13"
  }
 },
 "nbformat": 4,
 "nbformat_minor": 5
}
