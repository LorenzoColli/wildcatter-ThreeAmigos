{
 "cells": [
  {
   "cell_type": "markdown",
   "id": "f7109b16",
   "metadata": {
    "pycharm": {
     "name": "#%% md\n"
    },
    "tags": []
   },
   "source": [
    "## PPO Agent Training with Action Masking\n",
    "\n",
    "Here we will import the Proximal Policy Optimization (PPO) algorithm from Ray.RLlib and train it with minimal parameters.\n",
    "\n",
    "Action masking allows the policy to start learning the best strategy from the get-go, without having to first learn the rules of the game.\n",
    "Enforcing action masking in Ray requires the definition of a custom model, which post-processes the logits coming out of the actual model (here, a Fully Connceted Neural Network) setting to -inf those of forbidden actions"
   ]
  },
  {
   "cell_type": "code",
   "execution_count": 1,
   "id": "54a9d588-7775-466c-9c07-ab404ea9b123",
   "metadata": {},
   "outputs": [],
   "source": [
    "from wildcatter.advanced_environment_for_RLib import AdvancedDriller\n",
    "import ray\n",
    "from ray import air, tune\n",
    "from ray.rllib.models.tf.tf_modelv2 import TFModelV2\n",
    "from ray.rllib.models.tf.fcnet import FullyConnectedNetwork\n",
    "from ray.rllib.utils.framework import try_import_tf\n",
    "from ray.rllib.models import ModelCatalog\n",
    "from gym.spaces import Box, Dict\n",
    "import numpy as np\n",
    "import matplotlib.pyplot as plt\n",
    "from time import time\n",
    "\n",
    "tf1, tf, tfv = try_import_tf(error=True)\n",
    "\n",
    "class WildcatterActionMaskedModel(TFModelV2):\n",
    "     \n",
    "    def __init__(self, \n",
    "                 obs_space,\n",
    "                 action_space,\n",
    "                 num_outputs,\n",
    "                 model_config,\n",
    "                 name,\n",
    "                 true_obs_shape=(11,40),\n",
    "                 action_embed_size=4+38+1,\n",
    "                 *args, **kwargs):\n",
    "         \n",
    "        super(WildcatterActionMaskedModel, self).__init__(obs_space,\n",
    "            action_space, num_outputs, model_config, name, \n",
    "            *args, **kwargs)\n",
    "         \n",
    "        self.action_embed_model = FullyConnectedNetwork(\n",
    "            Box(-10, 10, shape=true_obs_shape), \n",
    "                action_space, action_embed_size,\n",
    "            model_config, name + \"_action_embed\")\n",
    "        #self.register_variables(self.action_embed_model.variables())\n",
    " \n",
    "    def forward(self, input_dict, state, seq_lens):\n",
    "        # Extract the available actions tensor from the observation.\n",
    "        avail_actions = input_dict[\"obs\"][\"avail_actions\"]\n",
    "        action_mask = input_dict[\"obs\"][\"action_mask\"]\n",
    "        # Compute the predicted action embedding\n",
    "        action_embed, _ = self.action_embed_model({\n",
    "            \"obs\": input_dict[\"obs\"][\"state\"]})\n",
    "        # Expand the model output\n",
    "        #intent_vector = tf.expand_dims(action_embed, 1)\n",
    "        # Batch dot product\n",
    "        #action_logits = tf.reduce_sum(avail_actions * intent_vector,\n",
    "        #    axis=2)\n",
    "        # Mask out invalid actions (use tf.float32.min for stability)\n",
    "        inf_mask = tf.maximum(tf.math.log(action_mask), tf.float32.min)\n",
    "        #return action_logits + inf_mask, state\n",
    "        return action_embed + inf_mask, state\n",
    " \n",
    "    def value_function(self):\n",
    "        return self.action_embed_model.value_function()\n",
    "    \n",
    "ModelCatalog.register_custom_model('wildcatter_masked', WildcatterActionMaskedModel)"
   ]
  },
  {
   "cell_type": "markdown",
   "id": "9c77993a-b16f-4d8d-b3f9-419354821968",
   "metadata": {},
   "source": [
    "## Setting environment config dictionary\n",
    "\n",
    "Here we list the config dictionaries for various environment types, selecting the one we want to train for."
   ]
  },
  {
   "cell_type": "code",
   "execution_count": 2,
   "id": "d5ca1722-3830-4bc3-a452-e411172276f5",
   "metadata": {},
   "outputs": [],
   "source": [
    "env_random_config = dict(model_type = \"random\",\n",
    "                  nrow=11,\n",
    "                  ncol=40,\n",
    "                  available_pipe=30,\n",
    "                  available_wells=2,\n",
    "                  oil_price = 40,\n",
    "                  relocation_cost = 0.2,\n",
    "                  drilling_cost = 0.5,\n",
    "                  drilling_depth_markup = 0.1,\n",
    "#                  seed = 0,\n",
    "                 )\n",
    "\n",
    "env_random_pockets_config = dict(model_type = \"random_pockets\",\n",
    "                  nrow=11,\n",
    "                  ncol=40,\n",
    "                  available_pipe=30,\n",
    "                  available_wells=3,\n",
    "                  oil_price = 1,\n",
    "                  relocation_cost = 0.2,\n",
    "                  drilling_cost = 0.5,\n",
    "                  drilling_depth_markup = 0.1,\n",
    "#                  seed = 0,\n",
    "                 )\n",
    "\n",
    "env_2d_two_rectangular_targets_config = dict(model_type = \"from_csv\",\n",
    "                  model_path=r\"/home/studio-lab-user/sagemaker-studiolab-notebooks/wildcatter-ThreeAmigos/examples/data/2d_two_rectangular_targets.csv\",\n",
    "                  delim=\",\",\n",
    "                  available_pipe=30,\n",
    "                  available_wells=2,\n",
    "                  oil_price = 40,\n",
    "                  relocation_cost = 0.2,\n",
    "                  drilling_cost = 0.5,\n",
    "                  drilling_depth_markup = 0.1,\n",
    "#                  seed = 0,\n",
    "                  )\n",
    "\n",
    "env_config = env_random_pockets_config"
   ]
  },
  {
   "cell_type": "markdown",
   "id": "2a55a4c3-52f9-4e12-9925-b6e7bf7a8a72",
   "metadata": {},
   "source": [
    "## Loading the PPO trainer\n",
    "\n",
    "Let's instantiate a PPO trainer with three workers (to exploit the 4 CPUs available on SageMaker Studio Lab)"
   ]
  },
  {
   "cell_type": "code",
   "execution_count": 3,
   "id": "8bbfe87c-5b83-4574-a988-6694292e04b6",
   "metadata": {},
   "outputs": [
    {
     "name": "stderr",
     "output_type": "stream",
     "text": [
      "2022-08-27 13:10:46,066\tWARNING services.py:1882 -- WARNING: The object store is using /tmp instead of /dev/shm because /dev/shm has only 4294967296 bytes available. This will harm performance! You may be able to free up space by deleting files in /dev/shm. If you are inside a Docker container, you can increase /dev/shm size by passing '--shm-size=4.62gb' to 'docker run' (or add it to the run_options list in a Ray cluster config). Make sure to set this to more than 30% of available RAM.\n",
      "2022-08-27 13:10:47,113\tINFO worker.py:1509 -- Started a local Ray instance. View the dashboard at \u001b[1m\u001b[32m127.0.0.1:8265 \u001b[39m\u001b[22m\n",
      "2022-08-27 13:10:48,380\tINFO algorithm.py:1871 -- Your framework setting is 'tf', meaning you are using static-graph mode. Set framework='tf2' to enable eager execution with tf2.x. You may also then want to set eager_tracing=True in order to reach similar execution speed as with static-graph mode.\n",
      "2022-08-27 13:10:48,381\tWARNING ppo.py:350 -- `train_batch_size` (4000) cannot be achieved with your other settings (num_workers=3 num_envs_per_worker=1 rollout_fragment_length=200)! Auto-adjusting `rollout_fragment_length` to 1334.\n",
      "2022-08-27 13:10:48,381\tINFO ppo.py:378 -- In multi-agent mode, policies will be optimized sequentially by the multi-GPU optimizer. Consider setting simple_optimizer=True if this doesn't work for you.\n",
      "2022-08-27 13:10:48,384\tINFO algorithm.py:351 -- Current log_level is WARN. For more information, set 'log_level': 'INFO' / 'DEBUG' or use the -v and -vv flags.\n",
      "\u001b[2m\u001b[36m(RolloutWorker pid=23710)\u001b[0m 2022-08-27 13:10:54,485\tWARNING env.py:142 -- Your env doesn't have a .spec.max_episode_steps attribute. This is fine if you have set 'horizon' in your config dictionary, or `soft_horizon`. However, if you haven't, 'horizon' will default to infinity, and your environment will not be reset.\n",
      "2022-08-27 13:10:56,567\tWARNING util.py:65 -- Install gputil for GPU system monitoring.\n"
     ]
    }
   ],
   "source": [
    "import ray.rllib.algorithms.ppo as ppo\n",
    "from ray.tune.logger import pretty_print\n",
    "ray.init(ignore_reinit_error=True)\n",
    "config = ppo.DEFAULT_CONFIG.copy()\n",
    "special_config = {\"num_gpus\" : 0,\n",
    "                  \"num_workers\" : 3, # Parallel training!\n",
    "                  \"env\": AdvancedDriller,\n",
    "                  \"env_config\": env_config,\n",
    "                  \"model\": {\n",
    "                      \"custom_model\": \"wildcatter_masked\",\n",
    "                  },\n",
    "                  \"horizon\" : 40\n",
    "                 }\n",
    "config.update(special_config)\n",
    "trainer = ppo.PPO(config=config)\n",
    "# In case we want to restore a checkpointed trainer\n",
    "#trainer.restore(my_checkpoint)"
   ]
  },
  {
   "cell_type": "code",
   "execution_count": 4,
   "id": "4e767d04-c186-4c19-bb26-437bb6a4d95e",
   "metadata": {
    "tags": []
   },
   "outputs": [
    {
     "data": {
      "text/plain": [
       "True"
      ]
     },
     "execution_count": 4,
     "metadata": {},
     "output_type": "execute_result"
    }
   ],
   "source": [
    "# Check that action masking works\n",
    "env = trainer.env_creator(env_config)\n",
    "obs = env.reset()\n",
    "obs['action_mask'][:-1] = 0 # Having set to zero the action mask of all other actions, the only remaining valid action is number 42\n",
    "# Let's ask the model to select an action for 10k times\n",
    "actions = np.array([trainer.compute_single_action(obs) for i in range(10000)])\n",
    "# Check that the action being selected has always been 42\n",
    "all(actions==42)"
   ]
  },
  {
   "cell_type": "code",
   "execution_count": 5,
   "id": "6cfb51ca-ffa2-4505-b348-92a1a6b53e5f",
   "metadata": {
    "tags": []
   },
   "outputs": [
    {
     "name": "stderr",
     "output_type": "stream",
     "text": [
      "\u001b[2m\u001b[36m(RolloutWorker pid=23710)\u001b[0m /home/studio-lab-user/.conda/envs/wildcatter-ThreeAmigos/lib/python3.9/site-packages/numpy/core/_methods.py:180: RuntimeWarning: overflow encountered in reduce\n",
      "\u001b[2m\u001b[36m(RolloutWorker pid=23710)\u001b[0m   ret = umr_sum(arr, axis, dtype, out, keepdims, where=where)\n"
     ]
    },
    {
     "name": "stdout",
     "output_type": "stream",
     "text": [
      "Epoch: 0; episode_reward_mean: -0.9345108695652172\n",
      "Epoch: 10; episode_reward_mean: 6.506851851851851\n",
      "Epoch: 20; episode_reward_mean: 20.56469194312796\n",
      "Epoch: 30; episode_reward_mean: 24.763260340632606\n",
      "Epoch: 40; episode_reward_mean: 28.33341523341523\n",
      "Epoch: 50; episode_reward_mean: 32.671164021164024\n",
      "Epoch: 60; episode_reward_mean: 35.22183288409703\n",
      "Epoch: 70; episode_reward_mean: 39.790449438202245\n",
      "Epoch: 80; episode_reward_mean: 44.36424581005586\n",
      "Epoch: 90; episode_reward_mean: 44.20028818443804\n",
      "Final checkpoint saved\n",
      "agent_timesteps_total: 400200\n",
      "counters:\n",
      "  num_agent_steps_sampled: 400200\n",
      "  num_agent_steps_trained: 400200\n",
      "  num_env_steps_sampled: 400200\n",
      "  num_env_steps_trained: 400200\n",
      "custom_metrics: {}\n",
      "date: 2022-08-27_13-22-56\n",
      "done: false\n",
      "episode_len_mean: 11.831360946745562\n",
      "episode_media: {}\n",
      "episode_reward_max: 86.7\n",
      "episode_reward_mean: 45.523668639053255\n",
      "episode_reward_min: -25.00000000000001\n",
      "episodes_this_iter: 338\n",
      "episodes_total: 40630\n",
      "experiment_id: d7767b281093477b9c8cd9e0cea241ec\n",
      "hostname: default\n",
      "info:\n",
      "  learner:\n",
      "    default_policy:\n",
      "      custom_metrics: {}\n",
      "      learner_stats:\n",
      "        cur_kl_coeff: 0.675000011920929\n",
      "        cur_lr: 4.999999873689376e-05\n",
      "        entropy: 0.49858397245407104\n",
      "        entropy_coeff: 0.0\n",
      "        kl: 0.01517399586737156\n",
      "        model: {}\n",
      "        policy_loss: -0.04488535597920418\n",
      "        total_loss: 8.748771667480469\n",
      "        vf_explained_var: -0.059352051466703415\n",
      "        vf_loss: 8.783414840698242\n",
      "      num_agent_steps_trained: 128.0\n",
      "  num_agent_steps_sampled: 400200\n",
      "  num_agent_steps_trained: 400200\n",
      "  num_env_steps_sampled: 400200\n",
      "  num_env_steps_trained: 400200\n",
      "iterations_since_restore: 100\n",
      "node_ip: 169.254.255.2\n",
      "num_agent_steps_sampled: 400200\n",
      "num_agent_steps_trained: 400200\n",
      "num_env_steps_sampled: 400200\n",
      "num_env_steps_sampled_this_iter: 4002\n",
      "num_env_steps_trained: 400200\n",
      "num_env_steps_trained_this_iter: 4002\n",
      "num_faulty_episodes: 0\n",
      "num_healthy_workers: 3\n",
      "num_recreated_workers: 0\n",
      "num_steps_trained_this_iter: 4002\n",
      "perf:\n",
      "  cpu_util_percent: 76.89000000000001\n",
      "  ram_util_percent: 19.9\n",
      "pid: 23330\n",
      "policy_reward_max: {}\n",
      "policy_reward_mean: {}\n",
      "policy_reward_min: {}\n",
      "sampler_perf:\n",
      "  mean_action_processing_ms: 0.08992158389037587\n",
      "  mean_env_render_ms: 0.0\n",
      "  mean_env_wait_ms: 0.13961676391145514\n",
      "  mean_inference_ms: 0.9845946559170938\n",
      "  mean_raw_obs_processing_ms: 0.546866656486316\n",
      "sampler_results:\n",
      "  custom_metrics: {}\n",
      "  episode_len_mean: 11.831360946745562\n",
      "  episode_media: {}\n",
      "  episode_reward_max: 86.7\n",
      "  episode_reward_mean: 45.523668639053255\n",
      "  episode_reward_min: -25.00000000000001\n",
      "  episodes_this_iter: 338\n",
      "  hist_stats:\n",
      "    episode_lengths: [7, 7, 18, 11, 10, 5, 13, 7, 12, 12, 10, 14, 15, 5, 8, 34, 7,\n",
      "      12, 13, 17, 13, 5, 13, 20, 10, 13, 7, 16, 6, 6, 7, 7, 15, 10, 10, 13, 12, 10,\n",
      "      9, 17, 37, 12, 14, 9, 10, 10, 3, 8, 37, 23, 17, 37, 14, 6, 12, 13, 6, 10, 11,\n",
      "      9, 14, 12, 5, 9, 11, 13, 18, 10, 5, 12, 18, 22, 14, 7, 7, 8, 12, 5, 5, 18, 7,\n",
      "      10, 6, 12, 17, 14, 10, 10, 16, 17, 12, 12, 14, 5, 16, 13, 13, 12, 13, 13, 5,\n",
      "      13, 12, 19, 16, 12, 10, 5, 6, 11, 6, 13, 12, 15, 22, 16, 10, 12, 6, 13, 7, 13,\n",
      "      12, 14, 6, 12, 11, 9, 13, 5, 14, 11, 11, 16, 14, 6, 15, 14, 15, 12, 13, 6, 15,\n",
      "      5, 5, 10, 13, 14, 16, 14, 12, 6, 15, 9, 12, 20, 9, 17, 12, 15, 5, 9, 37, 5,\n",
      "      10, 13, 37, 10, 13, 10, 5, 16, 13, 6, 24, 15, 13, 37, 12, 13, 12, 12, 5, 10,\n",
      "      14, 10, 22, 14, 37, 13, 16, 10, 5, 16, 9, 13, 8, 10, 15, 6, 13, 8, 16, 16, 14,\n",
      "      5, 11, 7, 6, 15, 8, 12, 10, 13, 14, 5, 6, 13, 12, 6, 5, 11, 13, 6, 7, 11, 6,\n",
      "      9, 10, 15, 6, 13, 8, 11, 12, 9, 12, 14, 9, 10, 10, 9, 8, 10, 6, 6, 10, 12, 11,\n",
      "      8, 6, 9, 13, 12, 11, 10, 16, 11, 12, 5, 13, 6, 11, 8, 15, 18, 17, 14, 6, 12,\n",
      "      11, 6, 16, 19, 13, 10, 10, 14, 6, 17, 16, 11, 11, 9, 12, 15, 22, 14, 15, 10,\n",
      "      10, 6, 1, 12, 6, 18, 12, 12, 9, 17, 13, 13, 14, 6, 9, 15, 12, 13, 14, 16, 19,\n",
      "      13, 10, 21, 7, 10, 5, 11, 11, 8, 10, 16, 12, 7, 13, 12, 5, 12, 13, 11, 6, 11,\n",
      "      14, 12, 11, 11, 5, 13]\n",
      "    episode_reward: [64.7, 0.0, 7.0, 39.0, 49.9, 78.7, 41.7, 57.0, 56.6, 68.6, 78.6,\n",
      "      -5.0, 26.1, 86.7, 66.0, -2.5000000000000036, 61.0, 38.6, 57.7, 52.8, 71.7, 72.7,\n",
      "      79.8, -10.5, 70.6, 35.7, 0.0, 11.3, 53.9, 39.9, 0.0, 65.0, 43.9, 70.6, 76.6,\n",
      "      25.8, 46.6, 33.7, 54.7, -8.9, -24.000000000000007, 48.6, 50.7, 34.7, 81.9, 72.6,\n",
      "      0.0, 71.9, -20.599999999999998, 47.4, 47.6, -21.9, 64.9, 67.9, 44.7, 75.7, 51.9,\n",
      "      52.6, 50.9, 30.7, -5.1, 70.6, 78.7, 52.9, 69.3, 75.8, -7.599999999999999, 37.9,\n",
      "      66.7, 60.6, 55.7, 30.4, -5.699999999999999, 47.0, 83.0, 54.0, 6.0, 58.7, 72.7,\n",
      "      67.8, 0.0, -2.0999999999999996, 69.9, 18.4, 44.6, -5.3, 47.9, 32.6, -7.199999999999999,\n",
      "      34.6, 64.0, 76.6, 72.9, 0.0, 67.0, 69.7, 42.0, -3.6, 24.9, 29.7, 82.7, 25.7,\n",
      "      54.6, 80.9, 16.8, 56.0, 47.9, 68.7, 81.9, 15.3, 57.9, 71.8, 76.9, 72.5, 49.6,\n",
      "      70.8, 27.9, 64.6, 69.9, 69.7, 67.0, 49.8, 20.6, 37.3, 61.9, 74.1, 67.0, -1.2,\n",
      "      63.7, 68.7, 16.9, 65.7, 57.4, 14.399999999999999, 37.3, 65.9, 36.5, 41.199999999999996,\n",
      "      -6.1, 70.6, 37.8, 53.9, 15.9, 68.7, 58.7, -1.9, 61.7, 52.9, -6.299999999999999,\n",
      "      -4.6, 22.0, 69.9, 31.9, 72.7, 36.7, 41.8, 46.7, 40.8, 44.6, 70.4, 56.7, 40.7,\n",
      "      -21.00000000000001, 62.7, 70.6, 66.0, -14.699999999999996, 52.0, -4.3, 66.0,\n",
      "      80.7, 44.8, 34.8, 55.9, -15.1, 40.5, 65.8, -22.400000000000002, 38.6, 61.9,\n",
      "      54.6, 24.4, 70.7, -1.7999999999999998, 72.7, 43.9, -9.0, 63.199999999999996,\n",
      "      -25.00000000000001, 81.8, -6.6000000000000005, 25.9, 66.7, 29.3, 66.9, 24.0,\n",
      "      61.9, 80.6, 26.400000000000002, 57.9, 27.700000000000003, 78.0, 73.3, 0.39999999999999947,\n",
      "      -5.3, 46.7, -2.7, 81.0, 61.9, 38.4, 68.0, 44.6, 72.0, 45.7, 40.9, 80.7, 69.9,\n",
      "      49.7, 30.0, 55.9, 44.7, 67.4, 7.4, 67.9, 79.0, 47.3, 61.9, 48.7, 84.6, 52.0,\n",
      "      79.9, 65.8, 57.9, 69.8, 46.599999999999994, 67.4, 44.4, -5.1, 46.7, 54.6, 70.6,\n",
      "      81.0, 33.9, 67.9, 49.9, 73.9, 61.9, 46.6, 65.9, 13.9, 79.9, -1.2, 47.7, 28.8,\n",
      "      65.7, 76.6, 53.4, 53.0, 26.6, 66.7, 53.7, 71.9, 45.7, 41.9, 38.4, 39.9, -7.3999999999999995,\n",
      "      32.7, 65.9, 48.7, 71.7, 55.9, -7.199999999999998, -9.899999999999999, 17.7,\n",
      "      57.9, 51.9, 64.9, 65.9, 20.8, 57.0, 47.0, 75.4, 55.0, 78.9, 74.5, -8.999999999999998,\n",
      "      67.2, 2.3, 76.6, 29.9, 49.9, 0.0, -3.3999999999999995, 59.9, 50.3, 44.9, 34.6,\n",
      "      28.7, 48.6, 53.8, 55.7, 52.9, 49.9, 44.7, 22.5, 64.6, 71.8, 62.9, 25.700000000000003,\n",
      "      -11.1, 41.7, 69.9, 33.0, 0.0, 80.6, 82.7, 67.7, 57.0, 78.0, 39.9, 57.4, 56.6,\n",
      "      67.0, 69.7, 42.7, 76.7, 42.0, 47.8, 23.0, 17.9, 54.9, 15.7, 86.6, 59.3, -4.699999999999999,\n",
      "      72.7, 75.80000000000001]\n",
      "  num_faulty_episodes: 0\n",
      "  policy_reward_max: {}\n",
      "  policy_reward_mean: {}\n",
      "  policy_reward_min: {}\n",
      "  sampler_perf:\n",
      "    mean_action_processing_ms: 0.08992158389037587\n",
      "    mean_env_render_ms: 0.0\n",
      "    mean_env_wait_ms: 0.13961676391145514\n",
      "    mean_inference_ms: 0.9845946559170938\n",
      "    mean_raw_obs_processing_ms: 0.546866656486316\n",
      "time_since_restore: 695.7633318901062\n",
      "time_this_iter_s: 6.752312183380127\n",
      "time_total_s: 695.7633318901062\n",
      "timers:\n",
      "  learn_throughput: 888.714\n",
      "  learn_time_ms: 4503.137\n",
      "  load_throughput: 16285635.595\n",
      "  load_time_ms: 0.246\n",
      "  synch_weights_time_ms: 3.205\n",
      "  training_iteration_time_ms: 6880.134\n",
      "timestamp: 1661606576\n",
      "timesteps_since_restore: 0\n",
      "timesteps_total: 400200\n",
      "training_iteration: 100\n",
      "trial_id: default\n",
      "warmup_time: 29.78149104118347\n",
      "\n"
     ]
    }
   ],
   "source": [
    "# Let's do 100 training epochs\n",
    "for i in range(100):\n",
    "    result = trainer.train()\n",
    "    if i%10 == 0:\n",
    "        checkpoint = trainer.save(\"my_checkpoint\")\n",
    "        print(f\"Epoch: {i}; episode_reward_mean: {result.get('episode_reward_mean')}\")\n",
    "\n",
    "checkpoint = trainer.save(\"my_checkpoint\")\n",
    "print(\"Final checkpoint saved\")\n",
    "print(pretty_print(result))"
   ]
  },
  {
   "cell_type": "code",
   "execution_count": 6,
   "id": "9aecdbe5-92c3-4a32-a4e6-f0586e90713f",
   "metadata": {},
   "outputs": [
    {
     "name": "stderr",
     "output_type": "stream",
     "text": [
      "2022-08-27 13:24:30,101\tWARNING env.py:142 -- Your env doesn't have a .spec.max_episode_steps attribute. This is fine if you have set 'horizon' in your config dictionary, or `soft_horizon`. However, if you haven't, 'horizon' will default to infinity, and your environment will not be reset.\n",
      "2022-08-27 13:24:31,487\tWARNING util.py:65 -- Install gputil for GPU system monitoring.\n"
     ]
    }
   ],
   "source": [
    "# Check policy\n",
    "eval_config = ppo.DEFAULT_CONFIG.copy()\n",
    "special_config = {\"num_workers\" : 0,\n",
    "                  \"env\": AdvancedDriller,\n",
    "                  \"env_config\": env_config,\n",
    "                  \"model\": {\n",
    "                      \"custom_model\": \"wildcatter_masked\",\n",
    "                  },\n",
    "                  \"horizon\" : 40,\n",
    "                  \"explore\" : False, # Always returns best action\n",
    "                 }\n",
    "eval_config.update(special_config)\n",
    "agent = ppo.PPO(config=eval_config, env=AdvancedDriller)"
   ]
  },
  {
   "cell_type": "code",
   "execution_count": null,
   "id": "c0c826e7-4af4-42b5-8bed-ea3bcafb0c50",
   "metadata": {},
   "outputs": [],
   "source": [
    "# Here we restore an agent we trained for 100 epochs with the standard parameters\n",
    "agent.restore(r\"/home/studio-lab-user/sagemaker-studiolab-notebooks/wildcatter-ThreeAmigos/examples/my_checkpoint/checkpoint_000100/\")"
   ]
  },
  {
   "cell_type": "code",
   "execution_count": 27,
   "id": "df5ad42d-f7ce-4ce0-a85f-685e6a751f55",
   "metadata": {
    "tags": []
   },
   "outputs": [
    {
     "name": "stdout",
     "output_type": "stream",
     "text": [
      "Beginning Drill Campaign\n",
      "Action: 14; reward: -0.0; total score: 0.0\n",
      "Action: 0; reward: -0.6; total score: -0.6\n",
      "Action: 0; reward: -0.7; total score: -1.2999999999999998\n",
      "Action: 0; reward: -0.8; total score: -2.0999999999999996\n",
      "Action: 42; reward: 0; total score: -2.0999999999999996\n",
      "Action: 31; reward: -0.0; total score: -2.0999999999999996\n",
      "Action: 0; reward: -0.6; total score: -2.6999999999999997\n",
      "Action: 0; reward: -0.7; total score: -3.3999999999999995\n",
      "Action: 0; reward: -0.8; total score: -4.199999999999999\n",
      "Action: 0; reward: -0.9; total score: -5.1\n",
      "Action: 42; reward: 30; total score: 24.9\n",
      "Action: 42; reward: 1200; total score: 1224.9\n"
     ]
    },
    {
     "data": {
      "image/png": "[encoded data removed]",
      "text/plain": [
       "<Figure size 1440x1440 with 1 Axes>"
      ]
     },
     "metadata": {
      "needs_background": "light"
     },
     "output_type": "display_data"
    },
    {
     "data": {
      "image/png": "[encoded data removed]",
      "text/plain": [
       "<Figure size 1440x1440 with 1 Axes>"
      ]
     },
     "metadata": {
      "needs_background": "light"
     },
     "output_type": "display_data"
    }
   ],
   "source": [
    "#env_config = env_random_pockets_config\n",
    "env_config = env_2d_two_rectangular_targets_config\n",
    "env = AdvancedDriller(env_config)\n",
    "print(\"Beginning Drill Campaign\")\n",
    "obs = env.reset()\n",
    "env.state[9,7]=1\n",
    "done = False\n",
    "score = 0\n",
    "plt.figure(figsize=(20, 20))\n",
    "plt.imshow(env.state, vmin=-10, vmax=2)\n",
    "plt.xticks(np.arange(0, env.ncol, 1.0))\n",
    "plt.yticks(np.arange(0, env.nrow, 1.0))\n",
    "plt.xlim([-0.5, env.ncol - 0.5])\n",
    "plt.ylim([env.nrow - 0.5, -0.5])\n",
    "plt.grid()\n",
    "\n",
    "while not done:\n",
    "    action = agent.compute_single_action(obs)\n",
    "    obs, reward, done, info = env.step(action)\n",
    "    score += reward\n",
    "    print(f\"Action: {action}; reward: {reward}; total score: {score}\")\n",
    "\n",
    "plt.figure(figsize=(20, 20))\n",
    "plt.imshow(env.state, vmin=-10, vmax=2)\n",
    "for well in env.trajectory:\n",
    "    traj_z, traj_x = np.asarray(well).T\n",
    "    plt.plot(traj_x, traj_z, \"-\", c=\"m\", linewidth=6)\n",
    "plt.xticks(np.arange(0, env.ncol, 1.0))\n",
    "plt.yticks(np.arange(0, env.nrow, 1.0))\n",
    "plt.xlim([-0.5, env.ncol - 0.5])\n",
    "plt.ylim([env.nrow - 0.5, -0.5])\n",
    "plt.grid()\n"
   ]
  },
  {
   "cell_type": "code",
   "execution_count": null,
   "id": "012b69cf-fe64-4366-8e40-ebb21ff2937c",
   "metadata": {},
   "outputs": [],
   "source": []
  }
 ],
 "metadata": {
  "kernelspec": {
   "display_name": "wildcatter-ThreeAmigos:Python",
   "language": "python",
   "name": "conda-env-wildcatter-ThreeAmigos-py"
  },
  "language_info": {
   "codemirror_mode": {
    "name": "ipython",
    "version": 3
   },
   "file_extension": ".py",
   "mimetype": "text/x-python",
   "name": "python",
   "nbconvert_exporter": "python",
   "pygments_lexer": "ipython3",
   "version": "3.9.13"
  }
 },
 "nbformat": 4,
 "nbformat_minor": 5
}
