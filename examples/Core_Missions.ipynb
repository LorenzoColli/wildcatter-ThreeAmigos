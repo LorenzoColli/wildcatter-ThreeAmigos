{
 "cells": [
  {
   "cell_type": "code",
   "execution_count": 1,
   "id": "69dd798e-c44e-4ddf-ac2a-a68708c3f641",
   "metadata": {
    "pycharm": {
     "name": "#%%\n"
    }
   },
   "outputs": [],
   "source": [
    "import numpy as np\n",
    "import matplotlib.pyplot as plt\n",
    "from wildcatter.environment import SimpleDriller\n",
    "from sb3_contrib import MaskablePPO\n",
    "from sb3_contrib.common.maskable.evaluation import evaluate_policy\n",
    "from sb3_contrib.common.maskable.utils import get_action_masks"
   ]
  },
  {
   "cell_type": "code",
   "execution_count": 2,
   "id": "122981ea-ea67-4fe0-aa3a-2036230f6697",
   "metadata": {},
   "outputs": [],
   "source": [
    "env_2d_stacked_config = dict(model_type = \"not_random\",\n",
    "                  model_path=r\"data/2d_stacked.csv\",\n",
    "                  delim=\",\",\n",
    "                  available_pipe=30,\n",
    "                  available_wells=2,\n",
    "                  oil_price = 40,\n",
    "                  relocation_cost = 0.2,\n",
    "                  drilling_cost = 0.5,\n",
    "                  drilling_depth_markup = 0.1,\n",
    "                 )\n",
    "env_2d_stacked = SimpleDriller(env_2d_stacked_config)\n",
    "\n",
    "env_random_config = dict(model_type = \"random\",\n",
    "                  nrow=11,\n",
    "                  ncol=40,\n",
    "                  available_pipe=30,\n",
    "                  available_wells=2,\n",
    "                  oil_price = 40,\n",
    "                  relocation_cost = 0.2,\n",
    "                  drilling_cost = 0.5,\n",
    "                  drilling_depth_markup = 0.1,\n",
    "                 )\n",
    "env_random = SimpleDriller(env_random_config)\n",
    "\n",
    "env_2d_two_rectangular_targets_config = dict(model_type = \"not_random\",\n",
    "                  model_path=r\"data/2d_two_rectangular_targets.csv\",\n",
    "                  delim=\",\",\n",
    "                  available_pipe=30,\n",
    "                  available_wells=2,\n",
    "                  oil_price = 40,\n",
    "                  relocation_cost = 0.2,\n",
    "                  drilling_cost = 0.5,\n",
    "                  drilling_depth_markup = 0.1,\n",
    "                 )\n",
    "env_2d_two_rectangular_targets = SimpleDriller(env_2d_two_rectangular_targets_config)"
   ]
  },
  {
   "cell_type": "code",
   "execution_count": 10,
   "id": "a3a2d9fb-aeb6-4bf7-8821-9180e2e9065b",
   "metadata": {
    "collapsed": false,
    "jupyter": {
     "outputs_hidden": false
    },
    "pycharm": {
     "name": "#%%\n"
    }
   },
   "outputs": [
    {
     "name": "stdout",
     "output_type": "stream",
     "text": [
      "Beginning Drill Campaign\n",
      "Action: 21 Reward: -0.0\n",
      "Action: 0 Reward: -0.6\n",
      "Action: 3 Reward: -0.6\n",
      "Action: 0 Reward: -0.7\n",
      "Action: 1 Reward: -0.7\n",
      "Action: 42 Reward: 0\n",
      "Action: 17 Reward: -0.0\n",
      "Action: 42 Reward: 0\n",
      "Action: 42 Reward: 0\n"
     ]
    },
    {
     "data": {
      "image/png": "[encoded data removed]",
      "text/plain": [
       "<Figure size 1440x1440 with 1 Axes>"
      ]
     },
     "metadata": {
      "needs_background": "light"
     },
     "output_type": "display_data"
    },
    {
     "data": {
      "image/png": "[encoded data removed]",
      "text/plain": [
       "<Figure size 1440x1440 with 1 Axes>"
      ]
     },
     "metadata": {
      "needs_background": "light"
     },
     "output_type": "display_data"
    }
   ],
   "source": [
    "env = env_2d_two_rectangular_targets\n",
    "print(\"Beginning Drill Campaign\")\n",
    "state = env.reset()\n",
    "all_actions = np.arange(4 + env.ncol-2 + 1)\n",
    "done = False\n",
    "score = 0\n",
    "plt.figure(figsize=(20, 20))\n",
    "plt.imshow(env.state, vmin=-10, vmax=2)\n",
    "plt.xticks(np.arange(0, env.ncol, 1.0))\n",
    "plt.yticks(np.arange(0, env.nrow, 1.0))\n",
    "plt.xlim([-0.5, env.ncol - 0.5])\n",
    "plt.ylim([env.nrow - 0.5, -0.5])\n",
    "plt.grid()\n",
    "\n",
    "while not done:\n",
    "    legal_actions = env.action_masks()\n",
    "    action = env.action_space.sample()\n",
    "    while not action in all_actions[legal_actions]:\n",
    "        action = env.action_space.sample()\n",
    "    obs, reward, done, info = env.step(action)\n",
    "    print(\"Action:\",action,\"Reward:\",reward)\n",
    "    score += reward\n",
    "\n",
    "plt.figure(figsize=(20, 20))\n",
    "plt.imshow(env.state, vmin=-10, vmax=2)\n",
    "for well in env.trajectory:\n",
    "    traj_z, traj_x = np.asarray(well).T\n",
    "    plt.plot(traj_x, traj_z, \"-\", c=\"m\", linewidth=6)\n",
    "plt.xticks(np.arange(0, env.ncol, 1.0))\n",
    "plt.yticks(np.arange(0, env.nrow, 1.0))\n",
    "plt.xlim([-0.5, env.ncol - 0.5])\n",
    "plt.ylim([env.nrow - 0.5, -0.5])\n",
    "plt.grid()"
   ]
  },
  {
   "cell_type": "markdown",
   "id": "f7109b16",
   "metadata": {
    "pycharm": {
     "name": "#%% md\n"
    }
   },
   "source": [
    "## PPO Agent Training\n",
    "\n",
    "Here we will import Proximal Policy Optimization (PPO) algorithm from Stable Baselines3 and train it with minimal parameters.\n",
    "\n",
    "We allow it to train for 50,000 time samples.\n",
    "\n",
    "For more information about PPO, please refer to our hello world example notebook [here](https://github.com/GeoML-SIG/wildcatter/blob/main/examples/01_rl_hello_world_cartpole.ipynb)."
   ]
  },
  {
   "cell_type": "code",
   "execution_count": 25,
   "id": "00e650de-79ed-4533-8c88-e2eb9a6dfb13",
   "metadata": {},
   "outputs": [
    {
     "name": "stdout",
     "output_type": "stream",
     "text": [
      "Using cpu device\n",
      "Wrapping the env with a `Monitor` wrapper\n",
      "Wrapping the env in a DummyVecEnv.\n",
      "----------------------------------------\n",
      "| rollout/                |            |\n",
      "|    ep_len_mean          | 12.2       |\n",
      "|    ep_rew_mean          | 187        |\n",
      "| time/                   |            |\n",
      "|    fps                  | 574        |\n",
      "|    iterations           | 5          |\n",
      "|    time_elapsed         | 8          |\n",
      "|    total_timesteps      | 5120       |\n",
      "| train/                  |            |\n",
      "|    approx_kl            | 0.01075933 |\n",
      "|    clip_fraction        | 0.0954     |\n",
      "|    clip_range           | 0.2        |\n",
      "|    entropy_loss         | -1.27      |\n",
      "|    explained_variance   | 0          |\n",
      "|    learning_rate        | 0.0027     |\n",
      "|    loss                 | 3.65e+04   |\n",
      "|    n_updates            | 40         |\n",
      "|    policy_gradient_loss | -0.00605   |\n",
      "|    value_loss           | 8.42e+04   |\n",
      "----------------------------------------\n",
      "----------------------------------------\n",
      "| rollout/                |            |\n",
      "|    ep_len_mean          | 12.2       |\n",
      "|    ep_rew_mean          | 146        |\n",
      "| time/                   |            |\n",
      "|    fps                  | 548        |\n",
      "|    iterations           | 10         |\n",
      "|    time_elapsed         | 18         |\n",
      "|    total_timesteps      | 10240      |\n",
      "| train/                  |            |\n",
      "|    approx_kl            | 0.05076539 |\n",
      "|    clip_fraction        | 0.415      |\n",
      "|    clip_range           | 0.2        |\n",
      "|    entropy_loss         | -1.23      |\n",
      "|    explained_variance   | 0          |\n",
      "|    learning_rate        | 0.0027     |\n",
      "|    loss                 | 3.2e+04    |\n",
      "|    n_updates            | 90         |\n",
      "|    policy_gradient_loss | 0.0069     |\n",
      "|    value_loss           | 5.31e+04   |\n",
      "----------------------------------------\n",
      "------------------------------------------\n",
      "| rollout/                |              |\n",
      "|    ep_len_mean          | 23.4         |\n",
      "|    ep_rew_mean          | 74.3         |\n",
      "| time/                   |              |\n",
      "|    fps                  | 536          |\n",
      "|    iterations           | 15           |\n",
      "|    time_elapsed         | 28           |\n",
      "|    total_timesteps      | 15360        |\n",
      "| train/                  |              |\n",
      "|    approx_kl            | 0.0029076235 |\n",
      "|    clip_fraction        | 0.0205       |\n",
      "|    clip_range           | 0.2          |\n",
      "|    entropy_loss         | -0.267       |\n",
      "|    explained_variance   | 0            |\n",
      "|    learning_rate        | 0.0027       |\n",
      "|    loss                 | 2.82e+03     |\n",
      "|    n_updates            | 140          |\n",
      "|    policy_gradient_loss | -0.00362     |\n",
      "|    value_loss           | 7.58e+03     |\n",
      "------------------------------------------\n",
      "------------------------------------------\n",
      "| rollout/                |              |\n",
      "|    ep_len_mean          | 34.2         |\n",
      "|    ep_rew_mean          | -33.8        |\n",
      "| time/                   |              |\n",
      "|    fps                  | 532          |\n",
      "|    iterations           | 20           |\n",
      "|    time_elapsed         | 38           |\n",
      "|    total_timesteps      | 20480        |\n",
      "| train/                  |              |\n",
      "|    approx_kl            | 0.0044160746 |\n",
      "|    clip_fraction        | 0.0131       |\n",
      "|    clip_range           | 0.2          |\n",
      "|    entropy_loss         | -0.062       |\n",
      "|    explained_variance   | -1.19e-07    |\n",
      "|    learning_rate        | 0.0027       |\n",
      "|    loss                 | 52.9         |\n",
      "|    n_updates            | 190          |\n",
      "|    policy_gradient_loss | -0.000644    |\n",
      "|    value_loss           | 188          |\n",
      "------------------------------------------\n",
      "-----------------------------------------\n",
      "| rollout/                |             |\n",
      "|    ep_len_mean          | 35          |\n",
      "|    ep_rew_mean          | 67.9        |\n",
      "| time/                   |             |\n",
      "|    fps                  | 527         |\n",
      "|    iterations           | 25          |\n",
      "|    time_elapsed         | 48          |\n",
      "|    total_timesteps      | 25600       |\n",
      "| train/                  |             |\n",
      "|    approx_kl            | 0.008165911 |\n",
      "|    clip_fraction        | 0.217       |\n",
      "|    clip_range           | 0.2         |\n",
      "|    entropy_loss         | -0.379      |\n",
      "|    explained_variance   | -1.19e-07   |\n",
      "|    learning_rate        | 0.0027      |\n",
      "|    loss                 | 3.93e+03    |\n",
      "|    n_updates            | 240         |\n",
      "|    policy_gradient_loss | 0.00386     |\n",
      "|    value_loss           | 5.33e+03    |\n",
      "-----------------------------------------\n",
      "----------------------------------------\n",
      "| rollout/                |            |\n",
      "|    ep_len_mean          | 35         |\n",
      "|    ep_rew_mean          | 355        |\n",
      "| time/                   |            |\n",
      "|    fps                  | 524        |\n",
      "|    iterations           | 30         |\n",
      "|    time_elapsed         | 58         |\n",
      "|    total_timesteps      | 30720      |\n",
      "| train/                  |            |\n",
      "|    approx_kl            | 0.04710594 |\n",
      "|    clip_fraction        | 0.175      |\n",
      "|    clip_range           | 0.2        |\n",
      "|    entropy_loss         | -0.463     |\n",
      "|    explained_variance   | 0          |\n",
      "|    learning_rate        | 0.0027     |\n",
      "|    loss                 | 1.81e+04   |\n",
      "|    n_updates            | 290        |\n",
      "|    policy_gradient_loss | -0.00292   |\n",
      "|    value_loss           | 3.51e+04   |\n",
      "----------------------------------------\n",
      "-------------------------------------------\n",
      "| rollout/                |               |\n",
      "|    ep_len_mean          | 34.6          |\n",
      "|    ep_rew_mean          | 37.3          |\n",
      "| time/                   |               |\n",
      "|    fps                  | 521           |\n",
      "|    iterations           | 35            |\n",
      "|    time_elapsed         | 68            |\n",
      "|    total_timesteps      | 35840         |\n",
      "| train/                  |               |\n",
      "|    approx_kl            | 0.00049938005 |\n",
      "|    clip_fraction        | 0.00771       |\n",
      "|    clip_range           | 0.2           |\n",
      "|    entropy_loss         | -0.114        |\n",
      "|    explained_variance   | 0             |\n",
      "|    learning_rate        | 0.0027        |\n",
      "|    loss                 | 1.78e+03      |\n",
      "|    n_updates            | 340           |\n",
      "|    policy_gradient_loss | -0.0012       |\n",
      "|    value_loss           | 5.44e+03      |\n",
      "-------------------------------------------\n",
      "------------------------------------------\n",
      "| rollout/                |              |\n",
      "|    ep_len_mean          | 34.9         |\n",
      "|    ep_rew_mean          | -22.4        |\n",
      "| time/                   |              |\n",
      "|    fps                  | 520          |\n",
      "|    iterations           | 40           |\n",
      "|    time_elapsed         | 78           |\n",
      "|    total_timesteps      | 40960        |\n",
      "| train/                  |              |\n",
      "|    approx_kl            | 0.0046003866 |\n",
      "|    clip_fraction        | 0.0112       |\n",
      "|    clip_range           | 0.2          |\n",
      "|    entropy_loss         | -0.0256      |\n",
      "|    explained_variance   | 0            |\n",
      "|    learning_rate        | 0.0027       |\n",
      "|    loss                 | 62.8         |\n",
      "|    n_updates            | 390          |\n",
      "|    policy_gradient_loss | 0.00242      |\n",
      "|    value_loss           | 3.23e+03     |\n",
      "------------------------------------------\n"
     ]
    },
    {
     "data": {
      "text/plain": [
       "<sb3_contrib.ppo_mask.ppo_mask.MaskablePPO at 0x7f9c441f5e50>"
      ]
     },
     "execution_count": 25,
     "metadata": {},
     "output_type": "execute_result"
    }
   ],
   "source": [
    "env = env_2d_two_rectangular_targets\n",
    "model = MaskablePPO(\"MlpPolicy\", env, learning_rate=0.0027, n_steps=1024, batch_size=64, n_epochs=10, gamma=0.995, gae_lambda=0.90,\n",
    "                    clip_range=0.2, ent_coef=0.0000001, vf_coef=0.5, max_grad_norm=0.5, verbose=1)\n",
    "model.set_random_seed(0)\n",
    "model.learn(total_timesteps=2 * 20_480, log_interval=5)"
   ]
  },
  {
   "cell_type": "code",
   "execution_count": 15,
   "id": "1dc94122",
   "metadata": {
    "collapsed": false,
    "jupyter": {
     "outputs_hidden": false
    },
    "pycharm": {
     "name": "#%%\n"
    }
   },
   "outputs": [
    {
     "name": "stdout",
     "output_type": "stream",
     "text": [
      "Using cpu device\n",
      "Wrapping the env with a `Monitor` wrapper\n",
      "Wrapping the env in a DummyVecEnv.\n",
      "-----------------------------------------\n",
      "| rollout/                |             |\n",
      "|    ep_len_mean          | 17.2        |\n",
      "|    ep_rew_mean          | 238         |\n",
      "| time/                   |             |\n",
      "|    fps                  | 583         |\n",
      "|    iterations           | 10          |\n",
      "|    time_elapsed         | 17          |\n",
      "|    total_timesteps      | 10240       |\n",
      "| train/                  |             |\n",
      "|    approx_kl            | 0.006729874 |\n",
      "|    clip_fraction        | 0.0374      |\n",
      "|    clip_range           | 0.2         |\n",
      "|    entropy_loss         | -1.29       |\n",
      "|    explained_variance   | 1.79e-07    |\n",
      "|    learning_rate        | 0.00081     |\n",
      "|    loss                 | 7.54e+04    |\n",
      "|    n_updates            | 90          |\n",
      "|    policy_gradient_loss | -0.00641    |\n",
      "|    value_loss           | 1.16e+05    |\n",
      "-----------------------------------------\n",
      "------------------------------------------\n",
      "| rollout/                |              |\n",
      "|    ep_len_mean          | 14.3         |\n",
      "|    ep_rew_mean          | 291          |\n",
      "| time/                   |              |\n",
      "|    fps                  | 564          |\n",
      "|    iterations           | 20           |\n",
      "|    time_elapsed         | 36           |\n",
      "|    total_timesteps      | 20480        |\n",
      "| train/                  |              |\n",
      "|    approx_kl            | 0.0128262965 |\n",
      "|    clip_fraction        | 0.118        |\n",
      "|    clip_range           | 0.2          |\n",
      "|    entropy_loss         | -1.06        |\n",
      "|    explained_variance   | 0            |\n",
      "|    learning_rate        | 0.00081      |\n",
      "|    loss                 | 2.38e+04     |\n",
      "|    n_updates            | 190          |\n",
      "|    policy_gradient_loss | -0.00756     |\n",
      "|    value_loss           | 8.85e+04     |\n",
      "------------------------------------------\n",
      "-----------------------------------------\n",
      "| rollout/                |             |\n",
      "|    ep_len_mean          | 8.52        |\n",
      "|    ep_rew_mean          | 233         |\n",
      "| time/                   |             |\n",
      "|    fps                  | 554         |\n",
      "|    iterations           | 30          |\n",
      "|    time_elapsed         | 55          |\n",
      "|    total_timesteps      | 30720       |\n",
      "| train/                  |             |\n",
      "|    approx_kl            | 0.010543972 |\n",
      "|    clip_fraction        | 0.284       |\n",
      "|    clip_range           | 0.2         |\n",
      "|    entropy_loss         | -1.13       |\n",
      "|    explained_variance   | 0           |\n",
      "|    learning_rate        | 0.00081     |\n",
      "|    loss                 | 4.39e+04    |\n",
      "|    n_updates            | 290         |\n",
      "|    policy_gradient_loss | 0.0128      |\n",
      "|    value_loss           | 1.35e+05    |\n",
      "-----------------------------------------\n",
      "---------------------------------------\n",
      "| rollout/                |           |\n",
      "|    ep_len_mean          | 15.8      |\n",
      "|    ep_rew_mean          | 292       |\n",
      "| time/                   |           |\n",
      "|    fps                  | 548       |\n",
      "|    iterations           | 40        |\n",
      "|    time_elapsed         | 74        |\n",
      "|    total_timesteps      | 40960     |\n",
      "| train/                  |           |\n",
      "|    approx_kl            | 0.0242351 |\n",
      "|    clip_fraction        | 0.102     |\n",
      "|    clip_range           | 0.2       |\n",
      "|    entropy_loss         | -0.803    |\n",
      "|    explained_variance   | 1.19e-07  |\n",
      "|    learning_rate        | 0.00081   |\n",
      "|    loss                 | 2.79e+04  |\n",
      "|    n_updates            | 390       |\n",
      "|    policy_gradient_loss | -0.00244  |\n",
      "|    value_loss           | 6.1e+04   |\n",
      "---------------------------------------\n"
     ]
    },
    {
     "data": {
      "text/plain": [
       "<sb3_contrib.ppo_mask.ppo_mask.MaskablePPO at 0x7f9c46a84880>"
      ]
     },
     "execution_count": 15,
     "metadata": {},
     "output_type": "execute_result"
    }
   ],
   "source": [
    "env = env_2d_two_rectangular_targets\n",
    "model = MaskablePPO(\"MlpPolicy\", env, learning_rate=0.00081, n_steps=1024, batch_size=64, n_epochs=10, gamma=0.995, gae_lambda=0.95,\n",
    "                    clip_range=0.2, ent_coef=0.00000001, vf_coef=0.5, max_grad_norm=0.5, verbose=1)\n",
    "model.set_random_seed(0)\n",
    "model.learn(total_timesteps=2 * 20_480, log_interval=2*5)"
   ]
  },
  {
   "cell_type": "code",
   "execution_count": 26,
   "id": "520ce5c5",
   "metadata": {
    "collapsed": false,
    "jupyter": {
     "outputs_hidden": false
    },
    "pycharm": {
     "name": "#%%\n"
    }
   },
   "outputs": [
    {
     "name": "stdout",
     "output_type": "stream",
     "text": [
      "Beginning Drill Campaign\n",
      "Reward: 0\n"
     ]
    },
    {
     "data": {
      "image/png": "[encoded data removed]",
      "text/plain": [
       "<Figure size 1440x1440 with 1 Axes>"
      ]
     },
     "metadata": {
      "needs_background": "light"
     },
     "output_type": "display_data"
    },
    {
     "data": {
      "image/png": "[encoded data removed]",
      "text/plain": [
       "<Figure size 1440x1440 with 1 Axes>"
      ]
     },
     "metadata": {
      "needs_background": "light"
     },
     "output_type": "display_data"
    }
   ],
   "source": [
    "print(\"Beginning Drill Campaign\")\n",
    "obs = env.reset()\n",
    "done = False\n",
    "score = 0\n",
    "plt.figure(figsize=(20, 20))\n",
    "plt.imshow(env.state, vmin=-10, vmax=2)\n",
    "plt.xticks(np.arange(0, env.ncol, 1.0))\n",
    "plt.yticks(np.arange(0, env.nrow, 1.0))\n",
    "plt.xlim([-0.5, env.ncol - 0.5])\n",
    "plt.ylim([env.nrow - 0.5, -0.5])\n",
    "plt.grid()\n",
    "\n",
    "while not done:\n",
    "    action_masks = get_action_masks(env)\n",
    "    action, _states = model.predict(obs, action_masks=action_masks, deterministic=True)\n",
    "    obs, reward, done, info = env.step(action)\n",
    "    score += reward\n",
    "\n",
    "print(\"Reward:\",reward)\n",
    "plt.figure(figsize=(20, 20))\n",
    "plt.imshow(env.state, vmin=-10, vmax=2)\n",
    "for well in env.trajectory:\n",
    "    traj_z, traj_x = np.asarray(well).T\n",
    "    plt.plot(traj_x, traj_z, \"-\", c=\"m\", linewidth=6)\n",
    "plt.xticks(np.arange(0, env.ncol, 1.0))\n",
    "plt.yticks(np.arange(0, env.nrow, 1.0))\n",
    "plt.xlim([-0.5, env.ncol - 0.5])\n",
    "plt.ylim([env.nrow - 0.5, -0.5])\n",
    "plt.grid()"
   ]
  },
  {
   "cell_type": "code",
   "execution_count": null,
   "id": "2e4b38c2-b290-45b6-b877-12955484446e",
   "metadata": {},
   "outputs": [],
   "source": []
  }
 ],
 "metadata": {
  "kernelspec": {
   "display_name": "wildcatter-ThreeAmigos:Python",
   "language": "python",
   "name": "conda-env-wildcatter-ThreeAmigos-py"
  },
  "language_info": {
   "codemirror_mode": {
    "name": "ipython",
    "version": 3
   },
   "file_extension": ".py",
   "mimetype": "text/x-python",
   "name": "python",
   "nbconvert_exporter": "python",
   "pygments_lexer": "ipython3",
   "version": "3.9.13"
  }
 },
 "nbformat": 4,
 "nbformat_minor": 5
}
