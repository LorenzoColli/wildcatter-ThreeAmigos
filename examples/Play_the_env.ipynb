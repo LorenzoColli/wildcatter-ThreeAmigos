{
 "cells": [
  {
   "cell_type": "markdown",
   "id": "f7109b16",
   "metadata": {
    "pycharm": {
     "name": "#%% md\n"
    },
    "tags": []
   },
   "source": [
    "## Let's play!"
   ]
  },
  {
   "cell_type": "code",
   "execution_count": 1,
   "id": "54a9d588-7775-466c-9c07-ab404ea9b123",
   "metadata": {},
   "outputs": [],
   "source": [
    "from wildcatter.advanced_environment_for_RLib import AdvancedDriller\n",
    "import numpy as np\n",
    "import matplotlib.pyplot as plt"
   ]
  },
  {
   "cell_type": "markdown",
   "id": "dd1f3f69-df57-430b-9b1d-4d51f2517200",
   "metadata": {},
   "source": [
    "## Setting environment config dictionary\n",
    "\n",
    "Here we list the config dictionaries for various environment types, selecting the one we want to train for."
   ]
  },
  {
   "cell_type": "code",
   "execution_count": 2,
   "id": "d5ca1722-3830-4bc3-a452-e411172276f5",
   "metadata": {},
   "outputs": [],
   "source": [
    "env_random_config = dict(model_type = \"random\",\n",
    "                  nrow=11,\n",
    "                  ncol=40,\n",
    "                  available_pipe=30,\n",
    "                  available_wells=2,\n",
    "                  oil_price = 40,\n",
    "                  relocation_cost = 0.2,\n",
    "                  drilling_cost = 0.5,\n",
    "                  drilling_depth_markup = 0.1,\n",
    "                  seed = 0,\n",
    "                 )\n",
    "\n",
    "env_random_pockets_config = dict(model_type = \"random_pockets\",\n",
    "                  nrow=11,\n",
    "                  ncol=40,\n",
    "                  available_pipe=30,\n",
    "                  available_wells=3,\n",
    "                  oil_price = 1,\n",
    "                  relocation_cost = 0.2,\n",
    "                  drilling_cost = 0.5,\n",
    "                  drilling_depth_markup = 0.1,\n",
    "                  seed = 0,\n",
    "                 )\n",
    "\n",
    "env_2d_from_csv_config = dict(model_type = \"from_csv\",\n",
    "                  #model_path=r\"/home/studio-lab-user/sagemaker-studiolab-notebooks/wildcatter-ThreeAmigos/examples/data/2d_two_rectangular_targets.csv\",\n",
    "                  #model_path=r\"/home/studio-lab-user/sagemaker-studiolab-notebooks/wildcatter-ThreeAmigos/examples/data/2d_stacked.csv\",\n",
    "                  model_path=r\"/home/studio-lab-user/sagemaker-studiolab-notebooks/wildcatter-ThreeAmigos/examples/data/x-sec_targets.csv\",\n",
    "                  delim=\",\",\n",
    "                  available_pipe=30,\n",
    "                  available_wells=2,\n",
    "                  oil_price = 40,\n",
    "                  relocation_cost = 0.2,\n",
    "                  drilling_cost = 0.5,\n",
    "                  drilling_depth_markup = 0.1,\n",
    "                  seed = 0,\n",
    "                  )\n",
    "\n",
    "env_config = env_random_pockets_config\n",
    "env = AdvancedDriller(env_config)"
   ]
  },
  {
   "cell_type": "markdown",
   "id": "5572a430-c74f-4179-bb7d-2b653537b060",
   "metadata": {},
   "source": [
    "## Starting the game\n",
    "\n",
    "Here we reset the environment. Dark colors mark faults and impassable borders. Green is unimportant rock. Shades of yellow are productive rock."
   ]
  },
  {
   "cell_type": "code",
   "execution_count": 3,
   "id": "df5ad42d-f7ce-4ce0-a85f-685e6a751f55",
   "metadata": {
    "tags": []
   },
   "outputs": [
    {
     "name": "stdout",
     "output_type": "stream",
     "text": [
      "Beginning Drill Campaign. Here's the initial model.\n"
     ]
    },
    {
     "data": {
      "image/png": "[encoded data removed]",
      "text/plain": [
       "<Figure size 1440x1440 with 1 Axes>"
      ]
     },
     "metadata": {
      "needs_background": "light"
     },
     "output_type": "display_data"
    },
    {
     "name": "stdout",
     "output_type": "stream",
     "text": [
      "Valid actions: [ 4  5  6  7  8  9 10 11 12 13 14 15 16 17 18 19 20 21 22 23 24 25 26 27\n",
      " 28 29 30 31 32 33 34 35 36 37 38 39 40 41 42]\n"
     ]
    }
   ],
   "source": [
    "print(\"Beginning Drill Campaign. Here's the initial model.\")\n",
    "obs = env.reset()\n",
    "done = False\n",
    "score = 0\n",
    "all_actions = np.arange(env._size_action_space)\n",
    "plt.figure(figsize=(20, 20))\n",
    "plt.imshow(env.state, vmin=-10, vmax=2)\n",
    "plt.xticks(np.arange(0, env.ncol, 1.0))\n",
    "plt.yticks(np.arange(0, env.nrow, 1.0))\n",
    "plt.xlim([-0.5, env.ncol - 0.5])\n",
    "plt.ylim([env.nrow - 0.5, -0.5])\n",
    "plt.grid()\n",
    "plt.show()\n",
    "permissible_actions = env.action_masks()\n",
    "print(\"Valid actions:\",all_actions[permissible_actions])"
   ]
  },
  {
   "cell_type": "markdown",
   "id": "5dc11e2c-df91-45e1-89c5-759430141798",
   "metadata": {},
   "source": [
    "The last output from the previous cell should be a list of valid actions.\n",
    "Remember that the actions are:\n",
    "- 0: drill down,\n",
    "- 1: drill left,\n",
    "- 2: drill up,\n",
    "- 3: drill right,\n",
    "- 4 to env._size_action_space - 2: start a new well at column number (action - 3),\n",
    "- env._size_action_space - 1 (i.e., the last action): stop drilling current well. If no wells are active: stop drilling campaign and sell all the oil extracted.\n",
    "\n",
    "\n",
    "Choose the action you want, update its value in the cell below and run it.\n",
    "\n",
    "The figure below shows a state where three actions (27, then 0 for three times) have been taken, establishing a well and drilling into the subsurface. The darker shade of green shows the current dril bit location!"
   ]
  },
  {
   "cell_type": "code",
   "execution_count": 7,
   "id": "7b6486bf-afbf-4e2a-86dc-78c7a994156f",
   "metadata": {},
   "outputs": [
    {
     "name": "stdout",
     "output_type": "stream",
     "text": [
      "Reward: -0.8\n",
      "Valid actions: [ 0  1  3 42]\n"
     ]
    },
    {
     "data": {
      "image/png": "[encoded data removed]",
      "text/plain": [
       "<Figure size 1440x1440 with 1 Axes>"
      ]
     },
     "metadata": {
      "needs_background": "light"
     },
     "output_type": "display_data"
    }
   ],
   "source": [
    "action = 0\n",
    "\n",
    "if action in all_actions[permissible_actions]:\n",
    "    obs, reward, done, info = env.step(action)\n",
    "    score += reward\n",
    "\n",
    "    plt.figure(figsize=(20, 20))\n",
    "    plt.imshow(env.state, vmin=-10, vmax=2)\n",
    "    plt.xticks(np.arange(0, env.ncol, 1.0))\n",
    "    plt.yticks(np.arange(0, env.nrow, 1.0))\n",
    "    plt.xlim([-0.5, env.ncol - 0.5])\n",
    "    plt.ylim([env.nrow - 0.5, -0.5])\n",
    "    for well in env.trajectory:\n",
    "        traj_z, traj_x = np.asarray(well).T\n",
    "        plt.plot(traj_x, traj_z, \"-\", c=\"m\", linewidth=6)\n",
    "    plt.grid()\n",
    "\n",
    "    print(\"Reward:\",reward)\n",
    "    if done:\n",
    "        print(\"Game over. Your score:\", score)\n",
    "    else:\n",
    "        permissible_actions = env.action_masks()\n",
    "        print(\"Valid actions:\",all_actions[permissible_actions])\n",
    "else:\n",
    "    print(\"Invalid action! Try again.\")\n",
    "    print(\"The set of valid actions is:\", all_actions[permissible_actions])"
   ]
  },
  {
   "cell_type": "code",
   "execution_count": null,
   "id": "b692c2af-d37b-4ff8-a265-b716afecd90e",
   "metadata": {},
   "outputs": [],
   "source": []
  }
 ],
 "metadata": {
  "kernelspec": {
   "display_name": "wildcatter-ThreeAmigos:Python",
   "language": "python",
   "name": "conda-env-wildcatter-ThreeAmigos-py"
  },
  "language_info": {
   "codemirror_mode": {
    "name": "ipython",
    "version": 3
   },
   "file_extension": ".py",
   "mimetype": "text/x-python",
   "name": "python",
   "nbconvert_exporter": "python",
   "pygments_lexer": "ipython3",
   "version": "3.9.13"
  }
 },
 "nbformat": 4,
 "nbformat_minor": 5
}
